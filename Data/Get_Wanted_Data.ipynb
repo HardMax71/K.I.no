{
 "cells": [
  {
   "cell_type": "code",
   "execution_count": 2,
   "metadata": {},
   "outputs": [],
   "source": [
    "import pandas as pd\n",
    "import glob\n",
    "import os\n",
    "import re\n",
    "from datetime import datetime"
   ]
  },
  {
   "cell_type": "code",
   "execution_count": 10,
   "metadata": {},
   "outputs": [],
   "source": [
    "#convert dates that are Str into date type\n",
    "#if the date is a String it is formated as \"24.12.\" \n",
    "#year gets extracted from filename: 2 possible types XX or XXYY\n",
    "\n",
    "def convert_date(year, date):\n",
    "    #format example: \"03.05.2007\"\n",
    "    format = \"%d.%m.%y\"\n",
    "\n",
    "    try:\n",
    "        #is date a string and year of type XX?\n",
    "        if (type(date) == str) and (len(year) == 2):\n",
    "            date = date + year\n",
    "\n",
    "        #is date a string and year of type XXYY?\n",
    "        elif (type(date) == str) and (len(year) > 2): \n",
    "            #XXYY (len = 4) implies that it's a wintersemester (starts 01.10, ends 01.04)\n",
    "            #if month is bigger than 6 choose XX\n",
    "            if int(date[3:-1]) > 6:\n",
    "                date = date + year[:-2]\n",
    "            #else choose YY as year\n",
    "            else:\n",
    "                date = date + year[2:]\n",
    "\n",
    "        #if non of the above is true, date is already date type\n",
    "        else:\n",
    "            return date \n",
    "        \n",
    "        #turn the formated date string into date type and return\n",
    "        return datetime.strptime(date, format)\n",
    "    \n",
    "    except: \n",
    "        #catched exception means that final date string could not be converted to date type\n",
    "        #which implies that we want to ignore this later (could be info in date column that are no dates)\n",
    "        return float('NaN')"
   ]
  },
  {
   "cell_type": "code",
   "execution_count": 26,
   "metadata": {},
   "outputs": [],
   "source": [
    "#remove unwanted characters from the title\n",
    "def clean_title(title):\n",
    "    #list of words we want to delete\n",
    "    naughty_list = [' \\(OmU\\)', \" \\(OV\\)\", \" OmU\", \" OmeU\", \" OV\"]\n",
    "    #check titles and remove if something matches\n",
    "    for scratch in naughty_list:\n",
    "        title = re.sub(scratch, \"\", title)\n",
    "    return title"
   ]
  },
  {
   "cell_type": "code",
   "execution_count": 98,
   "metadata": {},
   "outputs": [],
   "source": [
    "def extract_wanted(df, year):\n",
    "    #convert_dates\n",
    "    df['Datum'] = df.apply(lambda x: convert_date(year, x['Datum']), axis=1)\n",
    "    \n",
    "    #only use rows with dates\n",
    "    df = df.dropna(subset= 'Datum')\n",
    "    \n",
    "    #only keep date, name, attendance\n",
    "    df = df[[\"Datum\", \"Titel\", \"Zuschauer\"]]\n",
    "    \n",
    "    #New Column Names\n",
    "    df.columns = ['Date', \"Titel\", \"Attendance\"]\n",
    "    \n",
    "    #Convert Attendance Type from float to int\n",
    "    df = df.dropna(subset= \"Attendance\")\n",
    "    df['Attendance'] = df['Attendance'].astype(int)\n",
    "    \n",
    "    #remove words that are not part of the title\n",
    "    df['Titel'] = df['Titel'].apply(clean_title)\n",
    "    return df"
   ]
  },
  {
   "cell_type": "code",
   "execution_count": 101,
   "metadata": {},
   "outputs": [],
   "source": [
    "def export_to_csv(folder, extension):\n",
    "    for file in glob.glob(f\"{folder}*{extension}\"):\n",
    "        try:\n",
    "            #normalize file name\n",
    "            file_name = os.path.basename(file).lower()\n",
    "            #remove extension and format for export\n",
    "            file_name = os.path.splitext(file_name)[0]\n",
    "            file_name = re.sub(\" \", \"_\", file_name)\n",
    "\n",
    "            #last part of file name is the year\n",
    "            year = re.split(\"_\", file_name)[1]\n",
    "            \n",
    "            #read file into dataframe\n",
    "            df = pd.read_excel(file)\n",
    "            \n",
    "            #cut and format dataframe appropriatly \n",
    "            content = extract_wanted(df, year)\n",
    "            \n",
    "            #export dataframe as .csv file \n",
    "            content.to_csv(f\"/home/tisinti/Projekte/Movie_Attendence_Prediction/Uni_Data_Semesters/{file_name}.csv\", encoding='utf-8', index = False)\n",
    "        \n",
    "        except:\n",
    "            print(f\"{file_name} did not go through.\")"
   ]
  },
  {
   "cell_type": "code",
   "execution_count": 102,
   "metadata": {},
   "outputs": [],
   "source": [
    "folder = \"/home/tisinti/Projekte/Movie_Attendence_Prediction/Besucherzahlen/\"\n",
    "extension = [\".xls\", \".xlsx\", \".ods\"]\n",
    "\n",
    "for ext in extension:\n",
    "    export_to_csv(folder, ext)"
   ]
  }
 ],
 "metadata": {
  "kernelspec": {
   "display_name": "Python 3",
   "language": "python",
   "name": "python3"
  },
  "language_info": {
   "codemirror_mode": {
    "name": "ipython",
    "version": 3
   },
   "file_extension": ".py",
   "mimetype": "text/x-python",
   "name": "python",
   "nbconvert_exporter": "python",
   "pygments_lexer": "ipython3",
   "version": "3.10.6"
  },
  "orig_nbformat": 4
 },
 "nbformat": 4,
 "nbformat_minor": 2
}
