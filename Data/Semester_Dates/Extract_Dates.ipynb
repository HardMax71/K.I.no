{
 "cells": [
  {
   "attachments": {},
   "cell_type": "markdown",
   "metadata": {},
   "source": [
    "yes i could have just copied this shit by hand but this is good exercise"
   ]
  },
  {
   "cell_type": "code",
   "execution_count": 1,
   "metadata": {},
   "outputs": [],
   "source": [
    "import requests\n",
    "from bs4 import BeautifulSoup\n",
    "import re\n",
    "import pandas as pd "
   ]
  },
  {
   "cell_type": "code",
   "execution_count": 2,
   "metadata": {},
   "outputs": [
    {
     "name": "stdout",
     "output_type": "stream",
     "text": [
      "['Sommersemester 2023 (01.04.2023 - 30.09.2023)', 'Wintersemester 2022/23 (01.10.2022 - 31.03.2023)', 'Sommersemester 2022 (01.04.2022 - 30.09.2022)', 'Wintersemester 2021/22 (01.10.2021 - 31.03.2022)', 'Sommersemester 2021 (01.04.2021 - 30.09.2021)', 'Wintersemester 2020/21 (01.10.2020 - 31.03.2021)', 'Sommersemester 2020 (01.04.2020 - 30.09.2020)', 'Wintersemester 2019/20 (01.10.2019 - 31.03.2020)', 'Sommersemester 2019 (01.04.2019 - 30.09.2019)', 'Wintersemester 2018/19 (01.10.2018 - 31.03.2019)', 'Sommersemester 2018 (01.04.2018 - 30.09.2018)', 'Wintersemester 2017/18 (01.10.2017 - 31.03.2018)']\n"
     ]
    }
   ],
   "source": [
    "url = \"https://www.uni-trier.de/studium/beratung-service/service/fristen/termine/fristen-termine-archiv\"\n",
    "html = requests.get(url)\n",
    "junk = BeautifulSoup(html.content, 'html.parser')\n",
    "\n",
    "# find all date headers\n",
    "results = junk.find_all('h1')\n",
    "term_dates = []\n",
    "for term in results:\n",
    "    term = term.text.strip()\n",
    "    #check if numbers in entry\n",
    "    if re.search('\\(\\d', term):\n",
    "        term_dates.append(term)\n",
    "\n",
    "print(term_dates)\n"
   ]
  },
  {
   "cell_type": "code",
   "execution_count": 3,
   "metadata": {},
   "outputs": [],
   "source": [
    "df = pd.DataFrame(term_dates)"
   ]
  },
  {
   "cell_type": "code",
   "execution_count": 4,
   "metadata": {},
   "outputs": [],
   "source": [
    "def get_dates(raw_info):\n",
    "    dates = re.search('\\(.+\\)', raw_info).group()\n",
    "    dates = re.sub(\"[\\(\\)]\", \"\", dates)\n",
    "    #Split by whitespace and leave out th \"-\" in the return\n",
    "    dates = re.split(\" \",dates)\n",
    "    return dates[0], dates[2]\n",
    "\n",
    "def get_term(raw_info):\n",
    "    return re.sub(\"\\s\\(.+\\)\", \"\", raw_info)"
   ]
  },
  {
   "cell_type": "code",
   "execution_count": 5,
   "metadata": {},
   "outputs": [
    {
     "data": {
      "text/plain": [
       "('01.04.2023', '30.09.2023')"
      ]
     },
     "execution_count": 5,
     "metadata": {},
     "output_type": "execute_result"
    }
   ],
   "source": [
    "get_dates(term_dates[0])"
   ]
  },
  {
   "cell_type": "code",
   "execution_count": 6,
   "metadata": {},
   "outputs": [],
   "source": [
    "def add_term_dates(raw_info):\n",
    "    start, end = get_dates(raw_info)\n",
    "    return get_term(raw_info), start, end"
   ]
  },
  {
   "cell_type": "code",
   "execution_count": 7,
   "metadata": {},
   "outputs": [],
   "source": [
    "terms = pd.DataFrame(list(df[0].apply(add_term_dates)))"
   ]
  },
  {
   "cell_type": "code",
   "execution_count": 8,
   "metadata": {},
   "outputs": [],
   "source": [
    "terms.columns = ['Semester', 'Beginn', 'Ende']"
   ]
  },
  {
   "cell_type": "code",
   "execution_count": 11,
   "metadata": {},
   "outputs": [],
   "source": [
    "terms.to_csv(\"Semester_Dates.csv\", sep='\\t', encoding='utf-8', index = False)"
   ]
  },
  {
   "cell_type": "code",
   "execution_count": 12,
   "metadata": {},
   "outputs": [
    {
     "data": {
      "text/html": [
       "<div>\n",
       "<style scoped>\n",
       "    .dataframe tbody tr th:only-of-type {\n",
       "        vertical-align: middle;\n",
       "    }\n",
       "\n",
       "    .dataframe tbody tr th {\n",
       "        vertical-align: top;\n",
       "    }\n",
       "\n",
       "    .dataframe thead th {\n",
       "        text-align: right;\n",
       "    }\n",
       "</style>\n",
       "<table border=\"1\" class=\"dataframe\">\n",
       "  <thead>\n",
       "    <tr style=\"text-align: right;\">\n",
       "      <th></th>\n",
       "      <th>Semester</th>\n",
       "      <th>Beginn</th>\n",
       "      <th>Ende</th>\n",
       "    </tr>\n",
       "  </thead>\n",
       "  <tbody>\n",
       "    <tr>\n",
       "      <th>0</th>\n",
       "      <td>Sommersemester 2023</td>\n",
       "      <td>01.04.2023</td>\n",
       "      <td>30.09.2023</td>\n",
       "    </tr>\n",
       "    <tr>\n",
       "      <th>1</th>\n",
       "      <td>Wintersemester 2022/23</td>\n",
       "      <td>01.10.2022</td>\n",
       "      <td>31.03.2023</td>\n",
       "    </tr>\n",
       "    <tr>\n",
       "      <th>2</th>\n",
       "      <td>Sommersemester 2022</td>\n",
       "      <td>01.04.2022</td>\n",
       "      <td>30.09.2022</td>\n",
       "    </tr>\n",
       "    <tr>\n",
       "      <th>3</th>\n",
       "      <td>Wintersemester 2021/22</td>\n",
       "      <td>01.10.2021</td>\n",
       "      <td>31.03.2022</td>\n",
       "    </tr>\n",
       "    <tr>\n",
       "      <th>4</th>\n",
       "      <td>Sommersemester 2021</td>\n",
       "      <td>01.04.2021</td>\n",
       "      <td>30.09.2021</td>\n",
       "    </tr>\n",
       "    <tr>\n",
       "      <th>5</th>\n",
       "      <td>Wintersemester 2020/21</td>\n",
       "      <td>01.10.2020</td>\n",
       "      <td>31.03.2021</td>\n",
       "    </tr>\n",
       "    <tr>\n",
       "      <th>6</th>\n",
       "      <td>Sommersemester 2020</td>\n",
       "      <td>01.04.2020</td>\n",
       "      <td>30.09.2020</td>\n",
       "    </tr>\n",
       "    <tr>\n",
       "      <th>7</th>\n",
       "      <td>Wintersemester 2019/20</td>\n",
       "      <td>01.10.2019</td>\n",
       "      <td>31.03.2020</td>\n",
       "    </tr>\n",
       "    <tr>\n",
       "      <th>8</th>\n",
       "      <td>Sommersemester 2019</td>\n",
       "      <td>01.04.2019</td>\n",
       "      <td>30.09.2019</td>\n",
       "    </tr>\n",
       "    <tr>\n",
       "      <th>9</th>\n",
       "      <td>Wintersemester 2018/19</td>\n",
       "      <td>01.10.2018</td>\n",
       "      <td>31.03.2019</td>\n",
       "    </tr>\n",
       "    <tr>\n",
       "      <th>10</th>\n",
       "      <td>Sommersemester 2018</td>\n",
       "      <td>01.04.2018</td>\n",
       "      <td>30.09.2018</td>\n",
       "    </tr>\n",
       "    <tr>\n",
       "      <th>11</th>\n",
       "      <td>Wintersemester 2017/18</td>\n",
       "      <td>01.10.2017</td>\n",
       "      <td>31.03.2018</td>\n",
       "    </tr>\n",
       "  </tbody>\n",
       "</table>\n",
       "</div>"
      ],
      "text/plain": [
       "                  Semester      Beginn        Ende\n",
       "0      Sommersemester 2023  01.04.2023  30.09.2023\n",
       "1   Wintersemester 2022/23  01.10.2022  31.03.2023\n",
       "2      Sommersemester 2022  01.04.2022  30.09.2022\n",
       "3   Wintersemester 2021/22  01.10.2021  31.03.2022\n",
       "4      Sommersemester 2021  01.04.2021  30.09.2021\n",
       "5   Wintersemester 2020/21  01.10.2020  31.03.2021\n",
       "6      Sommersemester 2020  01.04.2020  30.09.2020\n",
       "7   Wintersemester 2019/20  01.10.2019  31.03.2020\n",
       "8      Sommersemester 2019  01.04.2019  30.09.2019\n",
       "9   Wintersemester 2018/19  01.10.2018  31.03.2019\n",
       "10     Sommersemester 2018  01.04.2018  30.09.2018\n",
       "11  Wintersemester 2017/18  01.10.2017  31.03.2018"
      ]
     },
     "execution_count": 12,
     "metadata": {},
     "output_type": "execute_result"
    }
   ],
   "source": [
    "terms"
   ]
  }
 ],
 "metadata": {
  "kernelspec": {
   "display_name": "Python 3",
   "language": "python",
   "name": "python3"
  },
  "language_info": {
   "codemirror_mode": {
    "name": "ipython",
    "version": 3
   },
   "file_extension": ".py",
   "mimetype": "text/x-python",
   "name": "python",
   "nbconvert_exporter": "python",
   "pygments_lexer": "ipython3",
   "version": "3.10.6"
  },
  "orig_nbformat": 4
 },
 "nbformat": 4,
 "nbformat_minor": 2
}
