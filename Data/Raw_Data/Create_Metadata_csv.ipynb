{
 "cells": [
  {
   "attachments": {},
   "cell_type": "markdown",
   "metadata": {},
   "source": [
    "Making the raw data concise and appending metadata"
   ]
  },
  {
   "attachments": {},
   "cell_type": "markdown",
   "metadata": {},
   "source": [
    "Included Metadata:\n",
    "    -Rating\n",
    "    -Weekday\n",
    "    -Semester\n",
    "    -Age\n",
    "    -Genre"
   ]
  },
  {
   "cell_type": "code",
   "execution_count": 3,
   "metadata": {},
   "outputs": [],
   "source": [
    "import requests\n",
    "from bs4 import BeautifulSoup\n",
    "from datetime import datetime\n",
    "import re\n",
    "import pandas as pd\n",
    "import calendar"
   ]
  },
  {
   "cell_type": "code",
   "execution_count": 4,
   "metadata": {},
   "outputs": [],
   "source": [
    "API_KEY = \"999ff2a141d82575eae2cd20f2aad315\""
   ]
  },
  {
   "attachments": {},
   "cell_type": "markdown",
   "metadata": {},
   "source": [
    "This code will always just look at the first result of the API call"
   ]
  },
  {
   "cell_type": "code",
   "execution_count": 5,
   "metadata": {},
   "outputs": [],
   "source": [
    "\n",
    "def find_movies(movie_search):\n",
    "    response = requests.get(\n",
    "        f\"https://api.themoviedb.org/3/search/movie?api_key={API_KEY}\"\n",
    "        f\"&query={string_to_query(movie_search)}\")\n",
    "    return response.json()['results']\n",
    "\n",
    "def string_to_query(search):\n",
    "    return search.replace(\" \", \"+\")"
   ]
  },
  {
   "attachments": {},
   "cell_type": "markdown",
   "metadata": {},
   "source": [
    "Sessions allow for faster requests!"
   ]
  },
  {
   "cell_type": "code",
   "execution_count": 6,
   "metadata": {},
   "outputs": [],
   "source": [
    "s = requests.Session()"
   ]
  },
  {
   "attachments": {},
   "cell_type": "markdown",
   "metadata": {},
   "source": [
    "Functions for each feature"
   ]
  },
  {
   "cell_type": "code",
   "execution_count": 7,
   "metadata": {},
   "outputs": [],
   "source": [
    "def check_title_ambiguity(result_list):\n",
    "    # check if there are more than 1 results\n",
    "    title_list = [x['title'] for x in result_list]\n",
    "\n",
    "    check = title_list.pop(0)\n",
    "    for title in title_list:\n",
    "        if check == title:\n",
    "            if check_first_of_his_name(result_list):\n",
    "                return False\n",
    "            return True\n",
    "    return False\n",
    "\n",
    "# if first release with name, don't append year in link\n",
    "def check_first_of_his_name(result_list):\n",
    "    release_list = [get_release_date(x) for x in result_list]\n",
    "    if release_list[0] == min(release_list):\n",
    "        return True\n",
    "    return False\n",
    "    \n",
    "\n",
    "def get_release_date(movie):\n",
    "    try:\n",
    "        date = datetime.strptime(movie['release_date'], '%Y-%m-%d').date()\n",
    "    except:\n",
    "        date = datetime.today().date()\n",
    "    return date\n",
    "\n",
    "def get_genre(movie):\n",
    "    return movie['genre_ids']\n",
    "\n",
    "def get_tmdb_title(movie):\n",
    "    return movie['title']\n",
    "\n",
    "def get_link(result_list):\n",
    "    \n",
    "    title = get_tmdb_title(result_list[0])\n",
    "    # if Title is ambiguous put release year on end of string\n",
    "    if check_title_ambiguity(result_list):\n",
    "        # first 4 digits are year (yyyy-mm-dd)\n",
    "        title = title + \" \" + str(get_release_date(result_list[0]).year)\n",
    "\n",
    "    # remove dots etc.\n",
    "    fit = re.sub(\"[,./()\\-;:_#'+*~?!&]\", \"\", title)\n",
    "    # turn everything lower case\n",
    "    fit = fit.lower()\n",
    "    # turn whitespaces to -\n",
    "    fit = re.sub(\" \", \"-\", fit)\n",
    "\n",
    "    link = f'https://letterboxd.com/film/{fit}'\n",
    "    return link\n",
    "\n",
    "def get_letterboxd_rating(result_list):\n",
    "    url = get_link(result_list)\n",
    "    html = s.get(url)\n",
    "    junk = BeautifulSoup(html.content, 'html.parser')\n",
    "\n",
    "    try:\n",
    "        # rating is hidden in <meta> tag named twitter:data2\n",
    "        results = junk.find('meta', {\"name\": \"twitter:data2\", \"content\": True})\n",
    "        # remove everything after first whitespace \"3.5 out of 5\" but we only want 3.5\n",
    "        rating = re.search('\\S+', results['content']).group()\n",
    "        return float(rating)\n",
    "    # Incase the movie does not have a rating on Letterboxd\n",
    "    except Exception as e:\n",
    "        return None"
   ]
  },
  {
   "cell_type": "code",
   "execution_count": 8,
   "metadata": {},
   "outputs": [],
   "source": [
    "def movie_metadata_string(result_list):\n",
    "    return f\"Title: {get_tmdb_title(result_list[0])}\\nRelease-date: {get_release_date(result_list[0])}\\nRating: {get_letterboxd_rating(result_list)}\\nLetterboxd Link: {get_link(result_list)}\""
   ]
  },
  {
   "cell_type": "code",
   "execution_count": 9,
   "metadata": {},
   "outputs": [],
   "source": [
    "def str_to_date(string, format = '%d.%m.%y'):\n",
    "    return datetime.strptime(string, format).date()"
   ]
  },
  {
   "cell_type": "code",
   "execution_count": 10,
   "metadata": {},
   "outputs": [
    {
     "name": "stdout",
     "output_type": "stream",
     "text": [
      "Title: Another Round\n",
      "Release-date: 2020-09-24\n",
      "Rating: 4.07\n",
      "Letterboxd Link: https://letterboxd.com/film/another-round\n",
      "False\n"
     ]
    }
   ],
   "source": [
    "result_list = find_movies(\"Druk \")\n",
    "print(movie_metadata_string(result_list))\n",
    "print(check_title_ambiguity(result_list))"
   ]
  },
  {
   "cell_type": "code",
   "execution_count": 11,
   "metadata": {},
   "outputs": [],
   "source": [
    "raw_data = pd.read_csv(\"CineAsta_Movie_Data_Raw.csv\")"
   ]
  },
  {
   "cell_type": "code",
   "execution_count": 12,
   "metadata": {},
   "outputs": [],
   "source": [
    "raw_data['Date'] = raw_data['Date'].apply(str_to_date)"
   ]
  },
  {
   "cell_type": "code",
   "execution_count": 57,
   "metadata": {},
   "outputs": [],
   "source": [
    "term_dates = pd.read_csv(\"~/Projekte/Movie_Attendence_Prediction/Data/Semester_Dates/Semester_Dates.csv\", sep=\"\\t\", encoding= \"UTF-8\")"
   ]
  },
  {
   "cell_type": "code",
   "execution_count": 58,
   "metadata": {},
   "outputs": [],
   "source": [
    "term_dates['Beginn'] = term_dates['Beginn'].apply(str_to_date, format = '%d.%m.%Y')\n",
    "term_dates['Ende'] = term_dates['Ende'].apply(str_to_date, format = '%d.%m.%Y')"
   ]
  },
  {
   "cell_type": "code",
   "execution_count": 73,
   "metadata": {},
   "outputs": [],
   "source": [
    "def add_semester(date):\n",
    "    check = (term_dates[\"Beginn\"] <= date) & (term_dates[\"Ende\"] >= date)\n",
    "    #horrible solution i hate this, there must be something better\n",
    "    return term_dates[\"Semester\"][check].to_list()[0]"
   ]
  },
  {
   "cell_type": "code",
   "execution_count": 76,
   "metadata": {},
   "outputs": [],
   "source": [
    "raw_data['Semester'] = raw_data['Date'].apply(add_semester)"
   ]
  },
  {
   "cell_type": "code",
   "execution_count": 78,
   "metadata": {},
   "outputs": [],
   "source": [
    "def date_to_weekday(date):\n",
    "    return calendar.day_name[date.weekday()]"
   ]
  },
  {
   "cell_type": "code",
   "execution_count": 79,
   "metadata": {},
   "outputs": [],
   "source": [
    "raw_data['Weekday'] = raw_data['Date'].apply(date_to_weekday)"
   ]
  },
  {
   "cell_type": "code",
   "execution_count": 88,
   "metadata": {},
   "outputs": [
    {
     "data": {
      "text/html": [
       "<div>\n",
       "<style scoped>\n",
       "    .dataframe tbody tr th:only-of-type {\n",
       "        vertical-align: middle;\n",
       "    }\n",
       "\n",
       "    .dataframe tbody tr th {\n",
       "        vertical-align: top;\n",
       "    }\n",
       "\n",
       "    .dataframe thead th {\n",
       "        text-align: right;\n",
       "    }\n",
       "</style>\n",
       "<table border=\"1\" class=\"dataframe\">\n",
       "  <thead>\n",
       "    <tr style=\"text-align: right;\">\n",
       "      <th></th>\n",
       "      <th>Movie</th>\n",
       "      <th>Date</th>\n",
       "      <th>Attendance</th>\n",
       "      <th>Semester</th>\n",
       "      <th>Weekday</th>\n",
       "    </tr>\n",
       "  </thead>\n",
       "  <tbody>\n",
       "    <tr>\n",
       "      <th>0</th>\n",
       "      <td>MEN</td>\n",
       "      <td>2023-02-08</td>\n",
       "      <td>10</td>\n",
       "      <td>Wintersemester 2022/23</td>\n",
       "      <td>Wednesday</td>\n",
       "    </tr>\n",
       "    <tr>\n",
       "      <th>1</th>\n",
       "      <td>Vortex</td>\n",
       "      <td>2023-02-07</td>\n",
       "      <td>2</td>\n",
       "      <td>Wintersemester 2022/23</td>\n",
       "      <td>Tuesday</td>\n",
       "    </tr>\n",
       "    <tr>\n",
       "      <th>2</th>\n",
       "      <td>Triangle of Sadness</td>\n",
       "      <td>2023-02-01</td>\n",
       "      <td>25</td>\n",
       "      <td>Wintersemester 2022/23</td>\n",
       "      <td>Wednesday</td>\n",
       "    </tr>\n",
       "    <tr>\n",
       "      <th>3</th>\n",
       "      <td>Wo in Paris die Sonne aufgeht</td>\n",
       "      <td>2023-01-31</td>\n",
       "      <td>4</td>\n",
       "      <td>Wintersemester 2022/23</td>\n",
       "      <td>Tuesday</td>\n",
       "    </tr>\n",
       "    <tr>\n",
       "      <th>4</th>\n",
       "      <td>Top Gun Maverick</td>\n",
       "      <td>2023-01-26</td>\n",
       "      <td>2</td>\n",
       "      <td>Wintersemester 2022/23</td>\n",
       "      <td>Thursday</td>\n",
       "    </tr>\n",
       "    <tr>\n",
       "      <th>5</th>\n",
       "      <td>The other Side of the River</td>\n",
       "      <td>2023-01-25</td>\n",
       "      <td>8</td>\n",
       "      <td>Wintersemester 2022/23</td>\n",
       "      <td>Wednesday</td>\n",
       "    </tr>\n",
       "    <tr>\n",
       "      <th>6</th>\n",
       "      <td>Tomorrow</td>\n",
       "      <td>2023-01-24</td>\n",
       "      <td>9</td>\n",
       "      <td>Wintersemester 2022/23</td>\n",
       "      <td>Tuesday</td>\n",
       "    </tr>\n",
       "    <tr>\n",
       "      <th>7</th>\n",
       "      <td>Der beste Film aller Zeiten</td>\n",
       "      <td>2023-01-18</td>\n",
       "      <td>1</td>\n",
       "      <td>Wintersemester 2022/23</td>\n",
       "      <td>Wednesday</td>\n",
       "    </tr>\n",
       "    <tr>\n",
       "      <th>8</th>\n",
       "      <td>Rabiye Kurnaz vs. George W. Bush</td>\n",
       "      <td>2023-01-17</td>\n",
       "      <td>3</td>\n",
       "      <td>Wintersemester 2022/23</td>\n",
       "      <td>Tuesday</td>\n",
       "    </tr>\n",
       "    <tr>\n",
       "      <th>9</th>\n",
       "      <td>Blutsauger</td>\n",
       "      <td>2023-01-12</td>\n",
       "      <td>9</td>\n",
       "      <td>Wintersemester 2022/23</td>\n",
       "      <td>Thursday</td>\n",
       "    </tr>\n",
       "  </tbody>\n",
       "</table>\n",
       "</div>"
      ],
      "text/plain": [
       "                              Movie        Date  Attendance  \\\n",
       "0                               MEN  2023-02-08          10   \n",
       "1                            Vortex  2023-02-07           2   \n",
       "2               Triangle of Sadness  2023-02-01          25   \n",
       "3     Wo in Paris die Sonne aufgeht  2023-01-31           4   \n",
       "4                  Top Gun Maverick  2023-01-26           2   \n",
       "5       The other Side of the River  2023-01-25           8   \n",
       "6                          Tomorrow  2023-01-24           9   \n",
       "7       Der beste Film aller Zeiten  2023-01-18           1   \n",
       "8  Rabiye Kurnaz vs. George W. Bush  2023-01-17           3   \n",
       "9                       Blutsauger   2023-01-12           9   \n",
       "\n",
       "                 Semester    Weekday  \n",
       "0  Wintersemester 2022/23  Wednesday  \n",
       "1  Wintersemester 2022/23    Tuesday  \n",
       "2  Wintersemester 2022/23  Wednesday  \n",
       "3  Wintersemester 2022/23    Tuesday  \n",
       "4  Wintersemester 2022/23   Thursday  \n",
       "5  Wintersemester 2022/23  Wednesday  \n",
       "6  Wintersemester 2022/23    Tuesday  \n",
       "7  Wintersemester 2022/23  Wednesday  \n",
       "8  Wintersemester 2022/23    Tuesday  \n",
       "9  Wintersemester 2022/23   Thursday  "
      ]
     },
     "execution_count": 88,
     "metadata": {},
     "output_type": "execute_result"
    }
   ],
   "source": [
    "raw_data.head(10)"
   ]
  },
  {
   "cell_type": "code",
   "execution_count": null,
   "metadata": {},
   "outputs": [],
   "source": [
    "def add_movie_metadata(search):\n",
    "    result_list = find_movies(search)\n",
    "    \n",
    "    title = get_tmdb_title(result_list[0])\n",
    "    release_date = get_release_date(result_list[0])\n",
    "    rating = get_letterboxd_rating(result_list)\n",
    "    genre_ids = get_genre(result_list[0])\n",
    "\n",
    "    return title, release_date, rating, genre_ids"
   ]
  },
  {
   "cell_type": "code",
   "execution_count": null,
   "metadata": {},
   "outputs": [],
   "source": [
    "# return the metadata tuples to list and then dataframe, which can be appended \n",
    "\n",
    "metadata = pd.DataFrame(list(raw_data['Movie'].apply(add_movie_metadata)))"
   ]
  },
  {
   "cell_type": "code",
   "execution_count": null,
   "metadata": {},
   "outputs": [],
   "source": [
    "metadata.columns =['TMDB_Title', 'Release_Date', 'Rating', 'Genre_IDs']"
   ]
  },
  {
   "cell_type": "code",
   "execution_count": null,
   "metadata": {},
   "outputs": [],
   "source": [
    "metadata.head()"
   ]
  },
  {
   "cell_type": "code",
   "execution_count": null,
   "metadata": {},
   "outputs": [],
   "source": [
    "raw_data.head()"
   ]
  },
  {
   "cell_type": "code",
   "execution_count": null,
   "metadata": {},
   "outputs": [],
   "source": [
    "raw_data = pd.concat([raw_data, metadata], axis=1)"
   ]
  },
  {
   "cell_type": "code",
   "execution_count": null,
   "metadata": {},
   "outputs": [],
   "source": [
    "raw_data.head()"
   ]
  },
  {
   "cell_type": "code",
   "execution_count": null,
   "metadata": {},
   "outputs": [],
   "source": [
    "raw_data['Time_Since_Release'] = raw_data['Date'] - raw_data['Release_Date']"
   ]
  },
  {
   "cell_type": "code",
   "execution_count": null,
   "metadata": {},
   "outputs": [],
   "source": [
    "raw_data['Time_Since_Release']= pd.to_timedelta(raw_data['Time_Since_Release'])"
   ]
  },
  {
   "cell_type": "code",
   "execution_count": null,
   "metadata": {},
   "outputs": [],
   "source": [
    "raw_data"
   ]
  }
 ],
 "metadata": {
  "kernelspec": {
   "display_name": "Python 3",
   "language": "python",
   "name": "python3"
  },
  "language_info": {
   "codemirror_mode": {
    "name": "ipython",
    "version": 3
   },
   "file_extension": ".py",
   "mimetype": "text/x-python",
   "name": "python",
   "nbconvert_exporter": "python",
   "pygments_lexer": "ipython3",
   "version": "3.10.6"
  },
  "orig_nbformat": 4
 },
 "nbformat": 4,
 "nbformat_minor": 2
}
