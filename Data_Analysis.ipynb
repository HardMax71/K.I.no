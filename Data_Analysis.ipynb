{
 "cells": [
  {
   "cell_type": "markdown",
   "metadata": {},
   "source": [
    "## Doing a bit of Data Analysis 😎"
   ]
  },
  {
   "cell_type": "markdown",
   "metadata": {},
   "source": [
    "This won't stay in the project but it's easier to do this in a notebook while developing"
   ]
  },
  {
   "cell_type": "code",
   "execution_count": 62,
   "metadata": {},
   "outputs": [],
   "source": [
    "import pandas as pd \n",
    "import numpy as np\n",
    "import matplotlib.pyplot as plt "
   ]
  },
  {
   "cell_type": "code",
   "execution_count": 3,
   "metadata": {},
   "outputs": [],
   "source": [
    "CSV_FILE = \"data/full/cineasta_full.csv\""
   ]
  },
  {
   "cell_type": "code",
   "execution_count": 4,
   "metadata": {},
   "outputs": [],
   "source": [
    "cineData = pd.read_csv(CSV_FILE, parse_dates=['Date'])\n",
    "cineData = cineData.drop(columns=[\"Unnamed: 0\"])"
   ]
  },
  {
   "cell_type": "code",
   "execution_count": 13,
   "metadata": {},
   "outputs": [
    {
     "data": {
      "text/plain": [
       "OG_Title                object\n",
       "TMDB_Title              object\n",
       "Release_Date            object\n",
       "Rating                 float64\n",
       "Genre_IDs               object\n",
       "MovieAge                object\n",
       "Semester                object\n",
       "Weekday                 object\n",
       "Date            datetime64[ns]\n",
       "Attendance               int64\n",
       "dtype: object"
      ]
     },
     "execution_count": 13,
     "metadata": {},
     "output_type": "execute_result"
    }
   ],
   "source": [
    "cineData.dtypes"
   ]
  },
  {
   "cell_type": "code",
   "execution_count": 5,
   "metadata": {},
   "outputs": [
    {
     "data": {
      "text/html": [
       "<div>\n",
       "<style scoped>\n",
       "    .dataframe tbody tr th:only-of-type {\n",
       "        vertical-align: middle;\n",
       "    }\n",
       "\n",
       "    .dataframe tbody tr th {\n",
       "        vertical-align: top;\n",
       "    }\n",
       "\n",
       "    .dataframe thead th {\n",
       "        text-align: right;\n",
       "    }\n",
       "</style>\n",
       "<table border=\"1\" class=\"dataframe\">\n",
       "  <thead>\n",
       "    <tr style=\"text-align: right;\">\n",
       "      <th></th>\n",
       "      <th>OG_Title</th>\n",
       "      <th>TMDB_Title</th>\n",
       "      <th>Release_Date</th>\n",
       "      <th>Rating</th>\n",
       "      <th>Genre_IDs</th>\n",
       "      <th>MovieAge</th>\n",
       "      <th>Semester</th>\n",
       "      <th>Weekday</th>\n",
       "      <th>Date</th>\n",
       "      <th>Attendance</th>\n",
       "    </tr>\n",
       "  </thead>\n",
       "  <tbody>\n",
       "    <tr>\n",
       "      <th>0</th>\n",
       "      <td>Kingsman 2</td>\n",
       "      <td>Kingsman: The Golden Circle</td>\n",
       "      <td>2017-09-20</td>\n",
       "      <td>6.969</td>\n",
       "      <td>['Action', 'Adventure', 'Comedy']</td>\n",
       "      <td>202 days</td>\n",
       "      <td>Sommersemester</td>\n",
       "      <td>Tuesday</td>\n",
       "      <td>2018-04-10</td>\n",
       "      <td>87</td>\n",
       "    </tr>\n",
       "    <tr>\n",
       "      <th>1</th>\n",
       "      <td>Ferris Bueller's Day off</td>\n",
       "      <td>Ferris Bueller's Day Off</td>\n",
       "      <td>1986-06-11</td>\n",
       "      <td>7.605</td>\n",
       "      <td>['Comedy']</td>\n",
       "      <td>11627 days</td>\n",
       "      <td>Sommersemester</td>\n",
       "      <td>Wednesday</td>\n",
       "      <td>2018-04-11</td>\n",
       "      <td>16</td>\n",
       "    </tr>\n",
       "    <tr>\n",
       "      <th>2</th>\n",
       "      <td>Detroit</td>\n",
       "      <td>Detroit</td>\n",
       "      <td>2017-07-28</td>\n",
       "      <td>7.300</td>\n",
       "      <td>['Crime', 'Drama', 'Thriller', 'History']</td>\n",
       "      <td>264 days</td>\n",
       "      <td>Sommersemester</td>\n",
       "      <td>Wednesday</td>\n",
       "      <td>2018-04-18</td>\n",
       "      <td>9</td>\n",
       "    </tr>\n",
       "    <tr>\n",
       "      <th>3</th>\n",
       "      <td>It</td>\n",
       "      <td>It</td>\n",
       "      <td>2017-09-06</td>\n",
       "      <td>7.243</td>\n",
       "      <td>['Horror', 'Fantasy']</td>\n",
       "      <td>230 days</td>\n",
       "      <td>Sommersemester</td>\n",
       "      <td>Tuesday</td>\n",
       "      <td>2018-04-24</td>\n",
       "      <td>102</td>\n",
       "    </tr>\n",
       "    <tr>\n",
       "      <th>4</th>\n",
       "      <td>The Square</td>\n",
       "      <td>The Square</td>\n",
       "      <td>2017-08-25</td>\n",
       "      <td>6.765</td>\n",
       "      <td>['Drama']</td>\n",
       "      <td>243 days</td>\n",
       "      <td>Sommersemester</td>\n",
       "      <td>Wednesday</td>\n",
       "      <td>2018-04-25</td>\n",
       "      <td>30</td>\n",
       "    </tr>\n",
       "  </tbody>\n",
       "</table>\n",
       "</div>"
      ],
      "text/plain": [
       "                   OG_Title                   TMDB_Title Release_Date  Rating  \\\n",
       "0                Kingsman 2  Kingsman: The Golden Circle   2017-09-20   6.969   \n",
       "1  Ferris Bueller's Day off     Ferris Bueller's Day Off   1986-06-11   7.605   \n",
       "2                   Detroit                      Detroit   2017-07-28   7.300   \n",
       "3                        It                           It   2017-09-06   7.243   \n",
       "4                The Square                   The Square   2017-08-25   6.765   \n",
       "\n",
       "                                   Genre_IDs    MovieAge        Semester  \\\n",
       "0          ['Action', 'Adventure', 'Comedy']    202 days  Sommersemester   \n",
       "1                                 ['Comedy']  11627 days  Sommersemester   \n",
       "2  ['Crime', 'Drama', 'Thriller', 'History']    264 days  Sommersemester   \n",
       "3                      ['Horror', 'Fantasy']    230 days  Sommersemester   \n",
       "4                                  ['Drama']    243 days  Sommersemester   \n",
       "\n",
       "     Weekday       Date  Attendance  \n",
       "0    Tuesday 2018-04-10          87  \n",
       "1  Wednesday 2018-04-11          16  \n",
       "2  Wednesday 2018-04-18           9  \n",
       "3    Tuesday 2018-04-24         102  \n",
       "4  Wednesday 2018-04-25          30  "
      ]
     },
     "execution_count": 5,
     "metadata": {},
     "output_type": "execute_result"
    }
   ],
   "source": [
    "cineData.head()"
   ]
  },
  {
   "cell_type": "code",
   "execution_count": 6,
   "metadata": {},
   "outputs": [],
   "source": [
    "#after covid\n",
    "a_cov = cineData[cineData['Date'] > pd.to_datetime('2020-3-1')]\n",
    "#before covid\n",
    "b_cov = cineData[cineData['Date'] < pd.to_datetime('2020-3-1')]"
   ]
  },
  {
   "cell_type": "code",
   "execution_count": 7,
   "metadata": {},
   "outputs": [
    {
     "name": "stdout",
     "output_type": "stream",
     "text": [
      "Median before Covid: 33.0\n",
      "Median after Covid: 9.0\n"
     ]
    }
   ],
   "source": [
    "print(f\"Median before Covid: {b_cov['Attendance'].median()}\")\n",
    "print(f\"Median after Covid: {a_cov['Attendance'].median()}\")"
   ]
  },
  {
   "cell_type": "code",
   "execution_count": 10,
   "metadata": {},
   "outputs": [],
   "source": [
    "semDiff_a = a_cov.groupby(['Semester']).Attendance.mean()\n",
    "semDiff_b = b_cov.groupby(['Semester']).Attendance.mean()"
   ]
  },
  {
   "cell_type": "code",
   "execution_count": null,
   "metadata": {},
   "outputs": [],
   "source": [
    "plt.bar(semDiff_b.index, semDiff_b.values, color = 'orange')\n",
    "plt.bar(semDiff_a.index, semDiff_a.values, color='blue')\n",
    "plt.xlabel('Semester')\n",
    "plt.ylabel('Attendance')\n",
    "plt.legend(['Before Covid', 'After Covid'])\n",
    "plt.title(\"Median of Attendance\")"
   ]
  }
 ],
 "metadata": {
  "kernelspec": {
   "display_name": "venv",
   "language": "python",
   "name": "python3"
  },
  "language_info": {
   "codemirror_mode": {
    "name": "ipython",
    "version": 3
   },
   "file_extension": ".py",
   "mimetype": "text/x-python",
   "name": "python",
   "nbconvert_exporter": "python",
   "pygments_lexer": "ipython3",
   "version": "3.10.12"
  }
 },
 "nbformat": 4,
 "nbformat_minor": 2
}
