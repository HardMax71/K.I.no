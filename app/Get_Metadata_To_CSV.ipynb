{
 "cells": [
  {
   "cell_type": "code",
   "execution_count": 1,
   "metadata": {},
   "outputs": [],
   "source": [
    "import requests\n",
    "from bs4 import BeautifulSoup\n",
    "from datetime import datetime\n",
    "from dotenv import load_dotenv\n",
    "import os\n",
    "import re\n",
    "import pandas as pd\n",
    "import calendar"
   ]
  },
  {
   "cell_type": "code",
   "execution_count": 2,
   "metadata": {},
   "outputs": [],
   "source": [
    "load_dotenv()\n",
    "API_KEY = os.getenv('TMDB_API_KEY')"
   ]
  },
  {
   "cell_type": "code",
   "execution_count": 3,
   "metadata": {},
   "outputs": [],
   "source": [
    "#returns a list of dictionarys whith films that are possible results\n",
    "def find_movies(movie_search):\n",
    "    #search TMDB API over query\n",
    "    response = requests.get(\n",
    "        f\"https://api.themoviedb.org/3/search/movie?api_key={API_KEY}\"\n",
    "        f\"&query={string_to_query(movie_search)}\")\n",
    "    \n",
    "    #only return the results as a list\n",
    "    return response.json()['results']\n",
    "\n",
    "#formats a string like a query \n",
    "def string_to_query(search):\n",
    "    return search.replace(\" \", \"+\")"
   ]
  },
  {
   "cell_type": "code",
   "execution_count": 4,
   "metadata": {},
   "outputs": [],
   "source": [
    "date = find_movies(\"Der kleine Horrorladen\")[0]['release_date']"
   ]
  },
  {
   "cell_type": "code",
   "execution_count": 5,
   "metadata": {},
   "outputs": [
    {
     "data": {
      "text/plain": [
       "'1960-01-01'"
      ]
     },
     "execution_count": 5,
     "metadata": {},
     "output_type": "execute_result"
    }
   ],
   "source": [
    "date"
   ]
  },
  {
   "cell_type": "code",
   "execution_count": 6,
   "metadata": {},
   "outputs": [
    {
     "data": {
      "text/plain": [
       "datetime.datetime(1960, 1, 1, 0, 0)"
      ]
     },
     "execution_count": 6,
     "metadata": {},
     "output_type": "execute_result"
    }
   ],
   "source": [
    "datetime.strptime(date, '%Y-%m-%d')"
   ]
  },
  {
   "cell_type": "code",
   "execution_count": 7,
   "metadata": {},
   "outputs": [
    {
     "data": {
      "text/plain": [
       "['Her',\n",
       " 'Let Her Kill You',\n",
       " 'Heroic',\n",
       " 'Justice League x RWBY: Super Heroes & Huntsmen, Part Two',\n",
       " 'The Boy and the Heron',\n",
       " 'Miraculous World: New York, United HeroeZ',\n",
       " 'Dragon Ball Super: Super Hero',\n",
       " 'My Hero Academia: All Might Rising',\n",
       " 'Her',\n",
       " 'Her',\n",
       " 'her',\n",
       " 'Her',\n",
       " 'Her',\n",
       " 'Her',\n",
       " 'Her',\n",
       " 'Your Name Engraved Herein',\n",
       " \"Dragon Ball GT: A Hero's Legacy\",\n",
       " 'The Last Heretic',\n",
       " \"My Hero Academia: World Heroes' Mission\",\n",
       " 'To Her']"
      ]
     },
     "execution_count": 7,
     "metadata": {},
     "output_type": "execute_result"
    }
   ],
   "source": [
    "[x['title'] for x in find_movies(\"Her\")]"
   ]
  },
  {
   "cell_type": "code",
   "execution_count": 8,
   "metadata": {},
   "outputs": [],
   "source": [
    "#if titles are ambiguess the letterboxd link will \n",
    "#have the release year appended at the end\n",
    "def check_title_ambiguity(title):\n",
    "    titles = [x['title'] for x in find_movies(title)]\n",
    "    if len(titles) != len(set(titles)):\n",
    "        return \n",
    "    return False\n",
    "\n",
    "def get_release_date(movie):\n",
    "    try:\n",
    "        date = datetime.strptime(movie['release_date'], '%Y-%m-%d').date()\n",
    "    except:\n",
    "        date = datetime.today().date()\n",
    "    return date"
   ]
  },
  {
   "cell_type": "code",
   "execution_count": 10,
   "metadata": {},
   "outputs": [],
   "source": [
    "\n",
    "def get_genre(movie):\n",
    "    return movie['genre_ids']\n",
    "\n",
    "def get_tmdb_title(movie):\n",
    "    return movie['title']\n",
    "\n",
    "def get_link(result_list):\n",
    "    \n",
    "    title = get_tmdb_title(result_list[0])\n",
    "    # if Title is ambiguous put release year on end of string\n",
    "    if check_title_ambiguity(title):\n",
    "        # first 4 digits are year (yyyy-mm-dd)\n",
    "        title = title + \" \" + str(get_release_date(result_list[0]).year)\n",
    "\n",
    "    # remove dots etc.\n",
    "    fit = re.sub(\"[,./()\\-;:_#'+*~?!&]\", \"\", title)\n",
    "    # turn everything lower case\n",
    "    fit = fit.lower()\n",
    "    # turn whitespaces to -\n",
    "    fit = re.sub(\" \", \"-\", fit)\n",
    "\n",
    "    link = f'https://letterboxd.com/film/{fit}'\n",
    "    return link\n",
    "\n",
    "def get_letterboxd_rating(result_list):\n",
    "    url = get_link(result_list)\n",
    "    html = requests.get(url)\n",
    "    junk = BeautifulSoup(html.content, 'html.parser')\n",
    "\n",
    "    try:\n",
    "        # rating is hidden in <meta> tag named twitter:data2\n",
    "        results = junk.find('meta', {\"name\": \"twitter:data2\", \"content\": True})\n",
    "        # remove everything after first whitespace \"3.5 out of 5\" but we only want 3.5\n",
    "        rating = re.search('\\S+', results['content']).group()\n",
    "        return float(rating)\n",
    "    # Incase the movie does not have a rating on Letterboxd\n",
    "    except Exception as e:\n",
    "        return None"
   ]
  },
  {
   "cell_type": "code",
   "execution_count": 11,
   "metadata": {},
   "outputs": [],
   "source": [
    "def movie_metadata_string(result_list):\n",
    "    return f\"Title: {get_tmdb_title(result_list[0])}\\nRelease-date: {get_release_date(result_list[0])}\\nRating: {get_letterboxd_rating(result_list)}\\nLetterboxd Link: {get_link(result_list)}\""
   ]
  },
  {
   "cell_type": "code",
   "execution_count": 25,
   "metadata": {},
   "outputs": [],
   "source": [
    "def str_to_date(string, format = '%Y-%m-%d'):\n",
    "    return datetime.strptime(string, format).date()"
   ]
  },
  {
   "cell_type": "code",
   "execution_count": null,
   "metadata": {},
   "outputs": [],
   "source": [
    "result_list = find_movies(\"Good Vibrations\")\n",
    "print(movie_metadata_string(result_list))\n",
    "print(check_title_ambiguity(result_list))"
   ]
  },
  {
   "cell_type": "code",
   "execution_count": 15,
   "metadata": {},
   "outputs": [],
   "source": [
    "raw_data = pd.read_csv(\"../data/raw/sommer_07.csv\")"
   ]
  },
  {
   "cell_type": "code",
   "execution_count": 26,
   "metadata": {},
   "outputs": [],
   "source": [
    "raw_data['Date'] = raw_data['Date'].apply(str_to_date)"
   ]
  },
  {
   "cell_type": "code",
   "execution_count": 37,
   "metadata": {},
   "outputs": [
    {
     "data": {
      "text/plain": [
       "True"
      ]
     },
     "execution_count": 37,
     "metadata": {},
     "output_type": "execute_result"
    }
   ],
   "source": [
    "datetime(2010, 5, 10).month > datetime(2024, 3, 10).month\n"
   ]
  },
  {
   "cell_type": "code",
   "execution_count": 38,
   "metadata": {},
   "outputs": [],
   "source": [
    "def add_semester(date: datetime):\n",
    "    # Year is not important here as we only want to check Month!\n",
    "    if date.month > datetime(2000, 3, 1).month & date.month < datetime(2000, 8, 1).month:\n",
    "        return \"Sommersemester\"\n",
    "    return \"Wintersemester\""
   ]
  },
  {
   "cell_type": "code",
   "execution_count": 39,
   "metadata": {},
   "outputs": [],
   "source": [
    "raw_data['Semester'] = raw_data['Date'].apply(add_semester)"
   ]
  },
  {
   "cell_type": "code",
   "execution_count": 1,
   "metadata": {},
   "outputs": [
    {
     "ename": "ModuleNotFoundError",
     "evalue": "No module named 'app'",
     "output_type": "error",
     "traceback": [
      "\u001b[0;31m---------------------------------------------------------------------------\u001b[0m",
      "\u001b[0;31mModuleNotFoundError\u001b[0m                       Traceback (most recent call last)",
      "\u001b[1;32m/home/tisinti/Projekte/Movie_Attendence_Prediction/app/Get_Metadata_To_CSV.ipynb Cell 18\u001b[0m line \u001b[0;36m1\n\u001b[0;32m----> <a href='vscode-notebook-cell:/home/tisinti/Projekte/Movie_Attendence_Prediction/app/Get_Metadata_To_CSV.ipynb#X23sZmlsZQ%3D%3D?line=0'>1</a>\u001b[0m \u001b[39mfrom\u001b[39;00m \u001b[39mmetadata\u001b[39;00m \u001b[39mimport\u001b[39;00m append_meta\n\u001b[1;32m      <a href='vscode-notebook-cell:/home/tisinti/Projekte/Movie_Attendence_Prediction/app/Get_Metadata_To_CSV.ipynb#X23sZmlsZQ%3D%3D?line=1'>2</a>\u001b[0m \u001b[39mimport\u001b[39;00m \u001b[39mpandas\u001b[39;00m \u001b[39mas\u001b[39;00m \u001b[39mpd\u001b[39;00m \n\u001b[1;32m      <a href='vscode-notebook-cell:/home/tisinti/Projekte/Movie_Attendence_Prediction/app/Get_Metadata_To_CSV.ipynb#X23sZmlsZQ%3D%3D?line=3'>4</a>\u001b[0m raw \u001b[39m=\u001b[39m pd\u001b[39m.\u001b[39mread_csv(\u001b[39m'\u001b[39m\u001b[39m../data/raw/sommer_05.csv\u001b[39m\u001b[39m'\u001b[39m)\n",
      "File \u001b[0;32m~/Projekte/Movie_Attendence_Prediction/app/metadata/__init__.py:1\u001b[0m\n\u001b[0;32m----> 1\u001b[0m \u001b[39mfrom\u001b[39;00m \u001b[39m.\u001b[39;00m\u001b[39marrange\u001b[39;00m \u001b[39mimport\u001b[39;00m append_meta\n",
      "File \u001b[0;32m~/Projekte/Movie_Attendence_Prediction/app/metadata/arrange.py:1\u001b[0m\n\u001b[0;32m----> 1\u001b[0m \u001b[39mfrom\u001b[39;00m \u001b[39mapp\u001b[39;00m\u001b[39m.\u001b[39;00m\u001b[39mutils\u001b[39;00m \u001b[39mimport\u001b[39;00m SearchMovie\n\u001b[1;32m      2\u001b[0m \u001b[39mimport\u001b[39;00m \u001b[39mpandas\u001b[39;00m \u001b[39mas\u001b[39;00m \u001b[39mpd\u001b[39;00m \n\u001b[1;32m      4\u001b[0m \u001b[39mdef\u001b[39;00m \u001b[39mmovie_metadata\u001b[39m(search):\n",
      "\u001b[0;31mModuleNotFoundError\u001b[0m: No module named 'app'"
     ]
    }
   ],
   "source": [
    "from metadata import append_meta\n",
    "import pandas as pd \n",
    "\n",
    "raw = pd.read_csv('../data/raw/sommer_05.csv')\n",
    "full = append_meta(raw)"
   ]
  },
  {
   "cell_type": "code",
   "execution_count": 41,
   "metadata": {},
   "outputs": [],
   "source": [
    "def date_to_weekday(date: datetime):\n",
    "    return calendar.day_name[date.weekday()]"
   ]
  },
  {
   "cell_type": "code",
   "execution_count": 42,
   "metadata": {},
   "outputs": [],
   "source": [
    "raw_data['Weekday'] = raw_data['Date'].apply(date_to_weekday)"
   ]
  },
  {
   "cell_type": "code",
   "execution_count": 44,
   "metadata": {},
   "outputs": [
    {
     "data": {
      "text/html": [
       "<div>\n",
       "<style scoped>\n",
       "    .dataframe tbody tr th:only-of-type {\n",
       "        vertical-align: middle;\n",
       "    }\n",
       "\n",
       "    .dataframe tbody tr th {\n",
       "        vertical-align: top;\n",
       "    }\n",
       "\n",
       "    .dataframe thead th {\n",
       "        text-align: right;\n",
       "    }\n",
       "</style>\n",
       "<table border=\"1\" class=\"dataframe\">\n",
       "  <thead>\n",
       "    <tr style=\"text-align: right;\">\n",
       "      <th></th>\n",
       "      <th>Date</th>\n",
       "      <th>Titel</th>\n",
       "      <th>Attendance</th>\n",
       "      <th>Semester</th>\n",
       "      <th>Weekday</th>\n",
       "    </tr>\n",
       "  </thead>\n",
       "  <tbody>\n",
       "    <tr>\n",
       "      <th>0</th>\n",
       "      <td>2007-04-11</td>\n",
       "      <td>Borat</td>\n",
       "      <td>68</td>\n",
       "      <td>Sommersemester</td>\n",
       "      <td>Wednesday</td>\n",
       "    </tr>\n",
       "    <tr>\n",
       "      <th>1</th>\n",
       "      <td>2007-04-17</td>\n",
       "      <td>Das Parfum</td>\n",
       "      <td>112</td>\n",
       "      <td>Sommersemester</td>\n",
       "      <td>Tuesday</td>\n",
       "    </tr>\n",
       "    <tr>\n",
       "      <th>2</th>\n",
       "      <td>2007-04-18</td>\n",
       "      <td>Thank you for smoking</td>\n",
       "      <td>63</td>\n",
       "      <td>Sommersemester</td>\n",
       "      <td>Wednesday</td>\n",
       "    </tr>\n",
       "    <tr>\n",
       "      <th>3</th>\n",
       "      <td>2007-04-24</td>\n",
       "      <td>Eine unbequeme Wahrheit</td>\n",
       "      <td>153</td>\n",
       "      <td>Sommersemester</td>\n",
       "      <td>Tuesday</td>\n",
       "    </tr>\n",
       "    <tr>\n",
       "      <th>4</th>\n",
       "      <td>2007-04-25</td>\n",
       "      <td>Der Tiger und der Schnee</td>\n",
       "      <td>47</td>\n",
       "      <td>Sommersemester</td>\n",
       "      <td>Wednesday</td>\n",
       "    </tr>\n",
       "    <tr>\n",
       "      <th>5</th>\n",
       "      <td>2007-05-02</td>\n",
       "      <td>Ein Freund von mir</td>\n",
       "      <td>124</td>\n",
       "      <td>Sommersemester</td>\n",
       "      <td>Wednesday</td>\n",
       "    </tr>\n",
       "    <tr>\n",
       "      <th>6</th>\n",
       "      <td>2007-05-08</td>\n",
       "      <td>Kukushka</td>\n",
       "      <td>64</td>\n",
       "      <td>Sommersemester</td>\n",
       "      <td>Tuesday</td>\n",
       "    </tr>\n",
       "    <tr>\n",
       "      <th>7</th>\n",
       "      <td>2007-05-09</td>\n",
       "      <td>Lichter der Vorstadt</td>\n",
       "      <td>35</td>\n",
       "      <td>Sommersemester</td>\n",
       "      <td>Wednesday</td>\n",
       "    </tr>\n",
       "    <tr>\n",
       "      <th>8</th>\n",
       "      <td>2007-05-15</td>\n",
       "      <td>Fremde Haut</td>\n",
       "      <td>22</td>\n",
       "      <td>Sommersemester</td>\n",
       "      <td>Tuesday</td>\n",
       "    </tr>\n",
       "    <tr>\n",
       "      <th>9</th>\n",
       "      <td>2007-05-16</td>\n",
       "      <td>Der die Tollkirsche ausgräbt &amp; Nach 5 im Urwald</td>\n",
       "      <td>27</td>\n",
       "      <td>Sommersemester</td>\n",
       "      <td>Wednesday</td>\n",
       "    </tr>\n",
       "  </tbody>\n",
       "</table>\n",
       "</div>"
      ],
      "text/plain": [
       "         Date                                            Titel  Attendance  \\\n",
       "0  2007-04-11                                            Borat          68   \n",
       "1  2007-04-17                                       Das Parfum         112   \n",
       "2  2007-04-18                            Thank you for smoking          63   \n",
       "3  2007-04-24                          Eine unbequeme Wahrheit         153   \n",
       "4  2007-04-25                         Der Tiger und der Schnee          47   \n",
       "5  2007-05-02                               Ein Freund von mir         124   \n",
       "6  2007-05-08                                         Kukushka          64   \n",
       "7  2007-05-09                             Lichter der Vorstadt          35   \n",
       "8  2007-05-15                                      Fremde Haut          22   \n",
       "9  2007-05-16  Der die Tollkirsche ausgräbt & Nach 5 im Urwald          27   \n",
       "\n",
       "         Semester    Weekday  \n",
       "0  Sommersemester  Wednesday  \n",
       "1  Sommersemester    Tuesday  \n",
       "2  Sommersemester  Wednesday  \n",
       "3  Sommersemester    Tuesday  \n",
       "4  Sommersemester  Wednesday  \n",
       "5  Sommersemester  Wednesday  \n",
       "6  Sommersemester    Tuesday  \n",
       "7  Sommersemester  Wednesday  \n",
       "8  Sommersemester    Tuesday  \n",
       "9  Sommersemester  Wednesday  "
      ]
     },
     "execution_count": 44,
     "metadata": {},
     "output_type": "execute_result"
    }
   ],
   "source": [
    "raw_data.head(10)"
   ]
  },
  {
   "cell_type": "code",
   "execution_count": 45,
   "metadata": {},
   "outputs": [],
   "source": [
    "def add_movie_metadata(search):\n",
    "    result_list = find_movies(search)\n",
    "    \n",
    "    title = get_tmdb_title(result_list[0])\n",
    "    release_date = get_release_date(result_list[0])\n",
    "    rating = get_letterboxd_rating(result_list)\n",
    "    genre_ids = get_genre(result_list[0])\n",
    "\n",
    "    return title, release_date, rating, genre_ids"
   ]
  },
  {
   "cell_type": "code",
   "execution_count": 46,
   "metadata": {},
   "outputs": [
    {
     "ename": "KeyError",
     "evalue": "'Movie'",
     "output_type": "error",
     "traceback": [
      "\u001b[0;31m---------------------------------------------------------------------------\u001b[0m",
      "\u001b[0;31mKeyError\u001b[0m                                  Traceback (most recent call last)",
      "File \u001b[0;32m~/Projekte/Movie_Attendence_Prediction/venv/lib/python3.10/site-packages/pandas/core/indexes/base.py:3790\u001b[0m, in \u001b[0;36mIndex.get_loc\u001b[0;34m(self, key)\u001b[0m\n\u001b[1;32m   3789\u001b[0m \u001b[39mtry\u001b[39;00m:\n\u001b[0;32m-> 3790\u001b[0m     \u001b[39mreturn\u001b[39;00m \u001b[39mself\u001b[39;49m\u001b[39m.\u001b[39;49m_engine\u001b[39m.\u001b[39;49mget_loc(casted_key)\n\u001b[1;32m   3791\u001b[0m \u001b[39mexcept\u001b[39;00m \u001b[39mKeyError\u001b[39;00m \u001b[39mas\u001b[39;00m err:\n",
      "File \u001b[0;32mindex.pyx:152\u001b[0m, in \u001b[0;36mpandas._libs.index.IndexEngine.get_loc\u001b[0;34m()\u001b[0m\n",
      "File \u001b[0;32mindex.pyx:181\u001b[0m, in \u001b[0;36mpandas._libs.index.IndexEngine.get_loc\u001b[0;34m()\u001b[0m\n",
      "File \u001b[0;32mpandas/_libs/hashtable_class_helper.pxi:7080\u001b[0m, in \u001b[0;36mpandas._libs.hashtable.PyObjectHashTable.get_item\u001b[0;34m()\u001b[0m\n",
      "File \u001b[0;32mpandas/_libs/hashtable_class_helper.pxi:7088\u001b[0m, in \u001b[0;36mpandas._libs.hashtable.PyObjectHashTable.get_item\u001b[0;34m()\u001b[0m\n",
      "\u001b[0;31mKeyError\u001b[0m: 'Movie'",
      "\nThe above exception was the direct cause of the following exception:\n",
      "\u001b[0;31mKeyError\u001b[0m                                  Traceback (most recent call last)",
      "\u001b[1;32m/home/tisinti/Projekte/Movie_Attendence_Prediction/app/Get_Metadata_To_CSV.ipynb Cell 22\u001b[0m line \u001b[0;36m3\n\u001b[1;32m      <a href='vscode-notebook-cell:/home/tisinti/Projekte/Movie_Attendence_Prediction/app/Get_Metadata_To_CSV.ipynb#X31sZmlsZQ%3D%3D?line=0'>1</a>\u001b[0m \u001b[39m# return the metadata tuples to list and then dataframe, which can be appended \u001b[39;00m\n\u001b[0;32m----> <a href='vscode-notebook-cell:/home/tisinti/Projekte/Movie_Attendence_Prediction/app/Get_Metadata_To_CSV.ipynb#X31sZmlsZQ%3D%3D?line=2'>3</a>\u001b[0m metadata \u001b[39m=\u001b[39m pd\u001b[39m.\u001b[39mDataFrame(\u001b[39mlist\u001b[39m(raw_data[\u001b[39m'\u001b[39;49m\u001b[39mMovie\u001b[39;49m\u001b[39m'\u001b[39;49m]\u001b[39m.\u001b[39mapply(add_movie_metadata)))\n",
      "File \u001b[0;32m~/Projekte/Movie_Attendence_Prediction/venv/lib/python3.10/site-packages/pandas/core/frame.py:3896\u001b[0m, in \u001b[0;36mDataFrame.__getitem__\u001b[0;34m(self, key)\u001b[0m\n\u001b[1;32m   3894\u001b[0m \u001b[39mif\u001b[39;00m \u001b[39mself\u001b[39m\u001b[39m.\u001b[39mcolumns\u001b[39m.\u001b[39mnlevels \u001b[39m>\u001b[39m \u001b[39m1\u001b[39m:\n\u001b[1;32m   3895\u001b[0m     \u001b[39mreturn\u001b[39;00m \u001b[39mself\u001b[39m\u001b[39m.\u001b[39m_getitem_multilevel(key)\n\u001b[0;32m-> 3896\u001b[0m indexer \u001b[39m=\u001b[39m \u001b[39mself\u001b[39;49m\u001b[39m.\u001b[39;49mcolumns\u001b[39m.\u001b[39;49mget_loc(key)\n\u001b[1;32m   3897\u001b[0m \u001b[39mif\u001b[39;00m is_integer(indexer):\n\u001b[1;32m   3898\u001b[0m     indexer \u001b[39m=\u001b[39m [indexer]\n",
      "File \u001b[0;32m~/Projekte/Movie_Attendence_Prediction/venv/lib/python3.10/site-packages/pandas/core/indexes/base.py:3797\u001b[0m, in \u001b[0;36mIndex.get_loc\u001b[0;34m(self, key)\u001b[0m\n\u001b[1;32m   3792\u001b[0m     \u001b[39mif\u001b[39;00m \u001b[39misinstance\u001b[39m(casted_key, \u001b[39mslice\u001b[39m) \u001b[39mor\u001b[39;00m (\n\u001b[1;32m   3793\u001b[0m         \u001b[39misinstance\u001b[39m(casted_key, abc\u001b[39m.\u001b[39mIterable)\n\u001b[1;32m   3794\u001b[0m         \u001b[39mand\u001b[39;00m \u001b[39many\u001b[39m(\u001b[39misinstance\u001b[39m(x, \u001b[39mslice\u001b[39m) \u001b[39mfor\u001b[39;00m x \u001b[39min\u001b[39;00m casted_key)\n\u001b[1;32m   3795\u001b[0m     ):\n\u001b[1;32m   3796\u001b[0m         \u001b[39mraise\u001b[39;00m InvalidIndexError(key)\n\u001b[0;32m-> 3797\u001b[0m     \u001b[39mraise\u001b[39;00m \u001b[39mKeyError\u001b[39;00m(key) \u001b[39mfrom\u001b[39;00m \u001b[39merr\u001b[39;00m\n\u001b[1;32m   3798\u001b[0m \u001b[39mexcept\u001b[39;00m \u001b[39mTypeError\u001b[39;00m:\n\u001b[1;32m   3799\u001b[0m     \u001b[39m# If we have a listlike key, _check_indexing_error will raise\u001b[39;00m\n\u001b[1;32m   3800\u001b[0m     \u001b[39m#  InvalidIndexError. Otherwise we fall through and re-raise\u001b[39;00m\n\u001b[1;32m   3801\u001b[0m     \u001b[39m#  the TypeError.\u001b[39;00m\n\u001b[1;32m   3802\u001b[0m     \u001b[39mself\u001b[39m\u001b[39m.\u001b[39m_check_indexing_error(key)\n",
      "\u001b[0;31mKeyError\u001b[0m: 'Movie'"
     ]
    }
   ],
   "source": [
    "# return the metadata tuples to list and then dataframe, which can be appended \n",
    "\n",
    "metadata = pd.DataFrame(list(raw_data['Movie'].apply(add_movie_metadata)))"
   ]
  },
  {
   "cell_type": "code",
   "execution_count": null,
   "metadata": {},
   "outputs": [],
   "source": [
    "metadata.columns =['TMDB_Title', 'Release_Date', 'Rating', 'Genre_IDs']"
   ]
  },
  {
   "cell_type": "code",
   "execution_count": null,
   "metadata": {},
   "outputs": [],
   "source": [
    "metadata.head()"
   ]
  },
  {
   "cell_type": "code",
   "execution_count": null,
   "metadata": {},
   "outputs": [],
   "source": [
    "raw_data.head()"
   ]
  },
  {
   "cell_type": "code",
   "execution_count": null,
   "metadata": {},
   "outputs": [],
   "source": [
    "raw_data = pd.concat([raw_data, metadata], axis=1)"
   ]
  },
  {
   "cell_type": "code",
   "execution_count": null,
   "metadata": {},
   "outputs": [],
   "source": [
    "raw_data.head()"
   ]
  },
  {
   "cell_type": "code",
   "execution_count": null,
   "metadata": {},
   "outputs": [],
   "source": [
    "raw_data['Time_Since_Release'] = raw_data['Date'] - raw_data['Release_Date']"
   ]
  },
  {
   "cell_type": "code",
   "execution_count": null,
   "metadata": {},
   "outputs": [],
   "source": [
    "raw_data['Time_Since_Release']= pd.to_timedelta(raw_data['Time_Since_Release'])"
   ]
  },
  {
   "cell_type": "code",
   "execution_count": null,
   "metadata": {},
   "outputs": [],
   "source": [
    "raw_data"
   ]
  }
 ],
 "metadata": {
  "kernelspec": {
   "display_name": "venv",
   "language": "python",
   "name": "python3"
  },
  "language_info": {
   "codemirror_mode": {
    "name": "ipython",
    "version": 3
   },
   "file_extension": ".py",
   "mimetype": "text/x-python",
   "name": "python",
   "nbconvert_exporter": "python",
   "pygments_lexer": "ipython3",
   "version": "3.10.12"
  },
  "orig_nbformat": 4
 },
 "nbformat": 4,
 "nbformat_minor": 2
}
