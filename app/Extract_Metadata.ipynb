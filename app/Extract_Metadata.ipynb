{
 "cells": [
  {
   "cell_type": "code",
   "execution_count": 1,
   "metadata": {},
   "outputs": [],
   "source": [
    "import pandas as pd \n",
    "import re\n",
    "import requests\n",
    "from bs4 import BeautifulSoup\n",
    "from datetime import datetime"
   ]
  },
  {
   "cell_type": "code",
   "execution_count": 127,
   "metadata": {},
   "outputs": [],
   "source": [
    "genre_dic = {28: 'Action',\n",
    " 12: 'Adventure',\n",
    " 16: 'Animation',\n",
    " 35: 'Comedy',\n",
    " 80: 'Crime',\n",
    " 99: 'Documentary',\n",
    " 18: 'Drama',\n",
    " 10751: 'Family',\n",
    " 14: 'Fantasy',\n",
    " 36: 'History',\n",
    " 27: 'Horror',\n",
    " 10402: 'Music',\n",
    " 9648: 'Mystery',\n",
    " 10749: 'Romance',\n",
    " 878: 'Science Fiction',\n",
    " 10770: 'TV Movie',\n",
    " 53: 'Thriller',\n",
    " 10752: 'War',\n",
    " 37: 'Western'}"
   ]
  },
  {
   "cell_type": "code",
   "execution_count": 51,
   "metadata": {},
   "outputs": [],
   "source": [
    "class movie:\n",
    "    def __init__(self, metadata):\n",
    "        print(metadata['title'])\n",
    "        self.metadata = metadata\n",
    "        self.title = self.get_TMBD_title()\n",
    "        self.release_date = self.get_release_date()\n",
    "        self.rating = self.get_letterboxd_rating()\n",
    "        self.letterboxd_link = self.get_letterboxd_link()\n",
    "        self.genre = self.get_genre()\n",
    "        self.tmdb_rating = self.get_TMDB_rating()\n",
    "\n",
    "    #returns the release date of the movie\n",
    "    def get_release_date(self):\n",
    "        return datetime.strptime(self.metadata['release_date'], '%Y-%m-%d')\n",
    "    \n",
    "    #returns the TMDB title \n",
    "    def get_TMBD_title(self):\n",
    "        return self.metadata['title']\n",
    "    \n",
    "    #returns the genres IDS \n",
    "    def get_genre(self):\n",
    "        return self.metadata['genre_ids']\n",
    "\n",
    "    #returns formated letterboxd link of the best result\n",
    "    #E.G. 'https://letterboxd.com/film/apocalypse-now'\n",
    "    def get_letterboxd_link(self):\n",
    "        #put everything in lowercase\n",
    "        name = self.title.lower()\n",
    "        # remove dots etc.\n",
    "        name = re.sub(\"[,./()\\-;:_#'+*~?!&]\", \"\", name)\n",
    "        #remove the whitespaces\n",
    "        name = re.sub(\" \", \"-\", name)\n",
    "        \n",
    "        return f'https://letterboxd.com/film/{name}'\n",
    "\n",
    "    #returns the rating of the movie on letterboxed\n",
    "    def get_letterboxd_rating(self):\n",
    "        \n",
    "        #get html code of link\n",
    "        html = requests.get(self.get_letterboxd_link())\n",
    "        junk = BeautifulSoup(html.content, 'html.parser')\n",
    "\n",
    "        try:\n",
    "            # rating is hidden in <meta> tag named twitter:data2\n",
    "            results = junk.find('meta', {\"name\": \"twitter:data2\", \"content\": True})\n",
    "            # remove everything after first whitespace \"3.5 out of 5\" but we only want 3.5\n",
    "            rating = re.search('\\S+', results['content']).group()\n",
    "            return float(rating) * 2\n",
    "        # Incase the movie does not have a rating on Letterboxd\n",
    "        except Exception as e:\n",
    "            return float('NaN')\n",
    "    \n",
    "    def get_TMDB_rating(self):\n",
    "        return self.metadata['vote_average']"
   ]
  },
  {
   "cell_type": "code",
   "execution_count": 52,
   "metadata": {},
   "outputs": [],
   "source": [
    "class movie_search:\n",
    "    def __init__(self, search):\n",
    "        self.search = search\n",
    "        self.API_KEY = \"999ff2a141d82575eae2cd20f2aad315\"\n",
    "        self.results = self.find_movies()\n",
    "        #most likely match (first result)\n",
    "        self.ml_match = movie(self.results[0])\n",
    "\n",
    "    def __str__(self):\n",
    "        return (f\"Title: {self.ml_match.title}\"\n",
    "        f\"\\nRelease-date: {self.ml_match.release_date.date()}\"\n",
    "        f\"\\nRating: {self.ml_match.rating}\"\n",
    "        f\"\\nLetterboxd Link: {self.ml_match.letterboxd_link}\")\n",
    "    \n",
    "    #returns a list of dictionarys whith films that are possible results\n",
    "    def find_movies(self):\n",
    "        #search TMDB API over query\n",
    "        response = requests.get(\n",
    "            f\"https://api.themoviedb.org/3/search/movie?api_key={self.API_KEY}\"\n",
    "            f\"&query={self.string_to_query()}\")\n",
    "        \n",
    "        #only return the results as a list\n",
    "        return response.json()['results']\n",
    "\n",
    "    #formats a string like a query \n",
    "    def string_to_query(self):\n",
    "        return self.search.replace(\" \", \"+\")"
   ]
  },
  {
   "cell_type": "code",
   "execution_count": 53,
   "metadata": {},
   "outputs": [
    {
     "name": "stdout",
     "output_type": "stream",
     "text": [
      "Apocalypse Now\n",
      "Title: Apocalypse Now\n",
      "Release-date: 1979-08-15\n",
      "Rating: 8.88\n",
      "Letterboxd Link: https://letterboxd.com/film/apocalypse-now\n"
     ]
    }
   ],
   "source": [
    "search = \"Apocalypse Now\"\n",
    "result = movie_search(search)\n",
    "print(result)"
   ]
  },
  {
   "cell_type": "code",
   "execution_count": 54,
   "metadata": {},
   "outputs": [],
   "source": [
    "def get_metadata(search):\n",
    "    try:\n",
    "        result = movie_search(search).ml_match\n",
    "        return result.title, result.release_date, result.rating, result.genre, result.tmdb_rating\n",
    "    except:\n",
    "        return float('NaN'), float('NaN'), float('NaN'), float('NaN'), float('NaN')"
   ]
  },
  {
   "cell_type": "code",
   "execution_count": 55,
   "metadata": {},
   "outputs": [],
   "source": [
    "test_data = pd.read_csv(\"/home/tisinti/Projekte/Movie_Attendence_Prediction/Data/Uni_Data_Semesters/sommer_05.csv\")"
   ]
  },
  {
   "cell_type": "code",
   "execution_count": 56,
   "metadata": {},
   "outputs": [
    {
     "name": "stdout",
     "output_type": "stream",
     "text": [
      "Dirty Pretty Things\n",
      "A Very Long Engagement\n",
      "Just a Kiss\n",
      "Before Night Falls\n",
      "The Story of the Weeping Camel\n",
      "Don't Look at Me That Way\n",
      "Breathless\n",
      "My Architect: A Son's Journey\n",
      "Tricks\n",
      "The Golden Butterfly\n",
      "Mambo Italiano\n",
      "Coffee With Kadhal\n",
      "The Eighth Day\n",
      "Status Yo!\n",
      "Sexy Beast\n",
      "Uzumaki\n",
      "Distant Lights\n",
      "Mystic River\n",
      "The Best Man's Wedding\n",
      "The Man Without a Past\n",
      "Kitchen Stories\n",
      "Alle zusammen - Eine Stadt steigt auf - Die Doku\n",
      "Impreza\n"
     ]
    }
   ],
   "source": [
    "metadata = pd.DataFrame(list(test_data['Titel'].apply(get_metadata)))"
   ]
  },
  {
   "cell_type": "code",
   "execution_count": 123,
   "metadata": {},
   "outputs": [],
   "source": [
    "def id_to_genre(id):\n",
    "    new_dict = {key:value for (value,key) in genre_dic.items()}\n",
    "    return new_dict"
   ]
  },
  {
   "cell_type": "code",
   "execution_count": null,
   "metadata": {},
   "outputs": [],
   "source": [
    "test_data"
   ]
  },
  {
   "cell_type": "code",
   "execution_count": 114,
   "metadata": {},
   "outputs": [],
   "source": [
    "ratings = metadata.iloc[:,[0,2,4]]\n",
    "ratings.columns = ['Titel', 'Letterboxd', 'TMDB']"
   ]
  },
  {
   "cell_type": "code",
   "execution_count": 90,
   "metadata": {},
   "outputs": [
    {
     "data": {
      "text/plain": [
       "0.7083333333333334"
      ]
     },
     "execution_count": 90,
     "metadata": {},
     "output_type": "execute_result"
    }
   ],
   "source": [
    "#Percentage of succesfully retrieved Letterboxd ratings\n",
    "len(ratings['Letterboxd'].dropna()) / len(ratings['Letterboxd'])"
   ]
  },
  {
   "cell_type": "code",
   "execution_count": 115,
   "metadata": {},
   "outputs": [],
   "source": [
    "#drop 0 in TMDB results and NaN's \n",
    "con  = (ratings['TMDB'] == 0)\n",
    "ratings = ratings.drop(con[con].index)\n",
    "ratings = ratings.dropna(subset='Letterboxd')"
   ]
  },
  {
   "cell_type": "code",
   "execution_count": 116,
   "metadata": {},
   "outputs": [
    {
     "data": {
      "text/html": [
       "<div>\n",
       "<style scoped>\n",
       "    .dataframe tbody tr th:only-of-type {\n",
       "        vertical-align: middle;\n",
       "    }\n",
       "\n",
       "    .dataframe tbody tr th {\n",
       "        vertical-align: top;\n",
       "    }\n",
       "\n",
       "    .dataframe thead th {\n",
       "        text-align: right;\n",
       "    }\n",
       "</style>\n",
       "<table border=\"1\" class=\"dataframe\">\n",
       "  <thead>\n",
       "    <tr style=\"text-align: right;\">\n",
       "      <th></th>\n",
       "      <th>Titel</th>\n",
       "      <th>Letterboxd</th>\n",
       "      <th>TMDB</th>\n",
       "    </tr>\n",
       "  </thead>\n",
       "  <tbody>\n",
       "    <tr>\n",
       "      <th>0</th>\n",
       "      <td>Dirty Pretty Things</td>\n",
       "      <td>7.10</td>\n",
       "      <td>6.858</td>\n",
       "    </tr>\n",
       "    <tr>\n",
       "      <th>1</th>\n",
       "      <td>A Very Long Engagement</td>\n",
       "      <td>7.36</td>\n",
       "      <td>7.318</td>\n",
       "    </tr>\n",
       "    <tr>\n",
       "      <th>3</th>\n",
       "      <td>Before Night Falls</td>\n",
       "      <td>7.24</td>\n",
       "      <td>6.645</td>\n",
       "    </tr>\n",
       "    <tr>\n",
       "      <th>4</th>\n",
       "      <td>The Story of the Weeping Camel</td>\n",
       "      <td>7.44</td>\n",
       "      <td>7.103</td>\n",
       "    </tr>\n",
       "    <tr>\n",
       "      <th>5</th>\n",
       "      <td>Don't Look at Me That Way</td>\n",
       "      <td>6.64</td>\n",
       "      <td>4.000</td>\n",
       "    </tr>\n",
       "    <tr>\n",
       "      <th>7</th>\n",
       "      <td>Breathless</td>\n",
       "      <td>7.86</td>\n",
       "      <td>7.591</td>\n",
       "    </tr>\n",
       "    <tr>\n",
       "      <th>8</th>\n",
       "      <td>My Architect: A Son's Journey</td>\n",
       "      <td>7.16</td>\n",
       "      <td>7.100</td>\n",
       "    </tr>\n",
       "    <tr>\n",
       "      <th>11</th>\n",
       "      <td>Mambo Italiano</td>\n",
       "      <td>6.22</td>\n",
       "      <td>5.836</td>\n",
       "    </tr>\n",
       "    <tr>\n",
       "      <th>12</th>\n",
       "      <td>Coffee With Kadhal</td>\n",
       "      <td>5.24</td>\n",
       "      <td>6.800</td>\n",
       "    </tr>\n",
       "    <tr>\n",
       "      <th>13</th>\n",
       "      <td>The Eighth Day</td>\n",
       "      <td>7.24</td>\n",
       "      <td>7.398</td>\n",
       "    </tr>\n",
       "    <tr>\n",
       "      <th>15</th>\n",
       "      <td>Sexy Beast</td>\n",
       "      <td>7.74</td>\n",
       "      <td>6.981</td>\n",
       "    </tr>\n",
       "    <tr>\n",
       "      <th>17</th>\n",
       "      <td>Distant Lights</td>\n",
       "      <td>7.14</td>\n",
       "      <td>7.600</td>\n",
       "    </tr>\n",
       "    <tr>\n",
       "      <th>18</th>\n",
       "      <td>Mystic River</td>\n",
       "      <td>7.66</td>\n",
       "      <td>7.746</td>\n",
       "    </tr>\n",
       "    <tr>\n",
       "      <th>19</th>\n",
       "      <td>The Best Man's Wedding</td>\n",
       "      <td>6.72</td>\n",
       "      <td>6.269</td>\n",
       "    </tr>\n",
       "    <tr>\n",
       "      <th>21</th>\n",
       "      <td>Kitchen Stories</td>\n",
       "      <td>7.20</td>\n",
       "      <td>7.100</td>\n",
       "    </tr>\n",
       "  </tbody>\n",
       "</table>\n",
       "</div>"
      ],
      "text/plain": [
       "                             Titel  Letterboxd   TMDB\n",
       "0              Dirty Pretty Things        7.10  6.858\n",
       "1           A Very Long Engagement        7.36  7.318\n",
       "3               Before Night Falls        7.24  6.645\n",
       "4   The Story of the Weeping Camel        7.44  7.103\n",
       "5        Don't Look at Me That Way        6.64  4.000\n",
       "7                       Breathless        7.86  7.591\n",
       "8    My Architect: A Son's Journey        7.16  7.100\n",
       "11                  Mambo Italiano        6.22  5.836\n",
       "12              Coffee With Kadhal        5.24  6.800\n",
       "13                  The Eighth Day        7.24  7.398\n",
       "15                      Sexy Beast        7.74  6.981\n",
       "17                  Distant Lights        7.14  7.600\n",
       "18                    Mystic River        7.66  7.746\n",
       "19          The Best Man's Wedding        6.72  6.269\n",
       "21                 Kitchen Stories        7.20  7.100"
      ]
     },
     "execution_count": 116,
     "metadata": {},
     "output_type": "execute_result"
    }
   ],
   "source": [
    "ratings"
   ]
  },
  {
   "cell_type": "code",
   "execution_count": 113,
   "metadata": {},
   "outputs": [
    {
     "data": {
      "text/plain": [
       "0.5428666666666667"
      ]
     },
     "execution_count": 113,
     "metadata": {},
     "output_type": "execute_result"
    }
   ],
   "source": [
    "#Mean Absolute Error between TMDB and Letterboxd Ratings\n",
    "sum(abs(ratings['Letterboxd'] - ratings['TMDB'])) / len(ratings['Letterboxd'])"
   ]
  }
 ],
 "metadata": {
  "kernelspec": {
   "display_name": "venv",
   "language": "python",
   "name": "venv"
  },
  "language_info": {
   "codemirror_mode": {
    "name": "ipython",
    "version": 3
   },
   "file_extension": ".py",
   "mimetype": "text/x-python",
   "name": "python",
   "nbconvert_exporter": "python",
   "pygments_lexer": "ipython3",
   "version": "3.10.12"
  },
  "orig_nbformat": 4
 },
 "nbformat": 4,
 "nbformat_minor": 2
}
