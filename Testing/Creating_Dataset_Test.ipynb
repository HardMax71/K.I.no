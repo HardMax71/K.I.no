{
 "cells": [
  {
   "cell_type": "code",
   "execution_count": null,
   "metadata": {},
   "outputs": [],
   "source": [
    "%pip install openpyxl"
   ]
  },
  {
   "cell_type": "code",
   "execution_count": 1,
   "metadata": {},
   "outputs": [],
   "source": [
    "import pandas as pd\n",
    "\n",
    "df = pd.read_excel('C:/Movie_Attendence_Prediction/Testing/Test_data.xlsx', engine='openpyxl')"
   ]
  },
  {
   "cell_type": "code",
   "execution_count": 4,
   "metadata": {},
   "outputs": [
    {
     "data": {
      "text/html": [
       "<div>\n",
       "<style scoped>\n",
       "    .dataframe tbody tr th:only-of-type {\n",
       "        vertical-align: middle;\n",
       "    }\n",
       "\n",
       "    .dataframe tbody tr th {\n",
       "        vertical-align: top;\n",
       "    }\n",
       "\n",
       "    .dataframe thead th {\n",
       "        text-align: right;\n",
       "    }\n",
       "</style>\n",
       "<table border=\"1\" class=\"dataframe\">\n",
       "  <thead>\n",
       "    <tr style=\"text-align: right;\">\n",
       "      <th></th>\n",
       "      <th>Movie</th>\n",
       "      <th>Date</th>\n",
       "      <th>Attendance</th>\n",
       "    </tr>\n",
       "  </thead>\n",
       "  <tbody>\n",
       "    <tr>\n",
       "      <th>0</th>\n",
       "      <td>Babylon</td>\n",
       "      <td>2023-04-18</td>\n",
       "      <td>34</td>\n",
       "    </tr>\n",
       "    <tr>\n",
       "      <th>1</th>\n",
       "      <td>Gesang der Flusskrebse</td>\n",
       "      <td>2023-04-19</td>\n",
       "      <td>90</td>\n",
       "    </tr>\n",
       "    <tr>\n",
       "      <th>2</th>\n",
       "      <td>Sneak</td>\n",
       "      <td>2023-04-25</td>\n",
       "      <td>61</td>\n",
       "    </tr>\n",
       "    <tr>\n",
       "      <th>3</th>\n",
       "      <td>The Story Won't Die</td>\n",
       "      <td>2023-04-26</td>\n",
       "      <td>43</td>\n",
       "    </tr>\n",
       "    <tr>\n",
       "      <th>4</th>\n",
       "      <td>Crimes of the Future</td>\n",
       "      <td>2023-05-02</td>\n",
       "      <td>19</td>\n",
       "    </tr>\n",
       "  </tbody>\n",
       "</table>\n",
       "</div>"
      ],
      "text/plain": [
       "                    Movie       Date  Attendance\n",
       "0                 Babylon 2023-04-18          34\n",
       "1  Gesang der Flusskrebse 2023-04-19          90\n",
       "2                   Sneak 2023-04-25          61\n",
       "3     The Story Won't Die 2023-04-26          43\n",
       "4    Crimes of the Future 2023-05-02          19"
      ]
     },
     "execution_count": 4,
     "metadata": {},
     "output_type": "execute_result"
    }
   ],
   "source": [
    "df.head()"
   ]
  },
  {
   "cell_type": "code",
   "execution_count": 5,
   "metadata": {},
   "outputs": [
    {
     "data": {
      "text/html": [
       "<div>\n",
       "<style scoped>\n",
       "    .dataframe tbody tr th:only-of-type {\n",
       "        vertical-align: middle;\n",
       "    }\n",
       "\n",
       "    .dataframe tbody tr th {\n",
       "        vertical-align: top;\n",
       "    }\n",
       "\n",
       "    .dataframe thead th {\n",
       "        text-align: right;\n",
       "    }\n",
       "</style>\n",
       "<table border=\"1\" class=\"dataframe\">\n",
       "  <thead>\n",
       "    <tr style=\"text-align: right;\">\n",
       "      <th></th>\n",
       "      <th>Movie</th>\n",
       "      <th>Date</th>\n",
       "      <th>Attendance</th>\n",
       "    </tr>\n",
       "  </thead>\n",
       "  <tbody>\n",
       "    <tr>\n",
       "      <th>23</th>\n",
       "      <td>Mad God</td>\n",
       "      <td>2023-07-12</td>\n",
       "      <td>97</td>\n",
       "    </tr>\n",
       "    <tr>\n",
       "      <th>21</th>\n",
       "      <td>Oskars Kleid</td>\n",
       "      <td>2023-07-05</td>\n",
       "      <td>97</td>\n",
       "    </tr>\n",
       "    <tr>\n",
       "      <th>22</th>\n",
       "      <td>Me Time ein Film über kinderfreies Leben und E...</td>\n",
       "      <td>2023-07-11</td>\n",
       "      <td>90</td>\n",
       "    </tr>\n",
       "    <tr>\n",
       "      <th>1</th>\n",
       "      <td>Gesang der Flusskrebse</td>\n",
       "      <td>2023-04-19</td>\n",
       "      <td>90</td>\n",
       "    </tr>\n",
       "    <tr>\n",
       "      <th>20</th>\n",
       "      <td>Decision to leave</td>\n",
       "      <td>2023-07-04</td>\n",
       "      <td>64</td>\n",
       "    </tr>\n",
       "  </tbody>\n",
       "</table>\n",
       "</div>"
      ],
      "text/plain": [
       "                                                Movie       Date  Attendance\n",
       "23                                            Mad God 2023-07-12          97\n",
       "21                                       Oskars Kleid 2023-07-05          97\n",
       "22  Me Time ein Film über kinderfreies Leben und E... 2023-07-11          90\n",
       "1                              Gesang der Flusskrebse 2023-04-19          90\n",
       "20                                  Decision to leave 2023-07-04          64"
      ]
     },
     "execution_count": 5,
     "metadata": {},
     "output_type": "execute_result"
    }
   ],
   "source": [
    "df.sort_values('Attendance', ascending= False).head()"
   ]
  },
  {
   "cell_type": "code",
   "execution_count": 15,
   "metadata": {},
   "outputs": [],
   "source": [
    "import requests\n",
    "\n",
    "API_KEY = \"999ff2a141d82575eae2cd20f2aad315\"\n",
    "\n",
    "def find_movie(movie):\n",
    "    response = requests.get(\n",
    "        f\"https://api.themoviedb.org/3/search/movie?api_key={API_KEY}\"\n",
    "        f\"&query={string_to_query(movie)}\")\n",
    "    return response.json()['results']\n",
    "\n",
    "def string_to_query(title):\n",
    "    return title.replace(\" \", \"+\")"
   ]
  },
  {
   "cell_type": "code",
   "execution_count": 27,
   "metadata": {},
   "outputs": [],
   "source": [
    "def check_empty(dic):\n",
    "    if not dic: #dic empty?\n",
    "        return True\n",
    "    else:\n",
    "        return False"
   ]
  },
  {
   "cell_type": "code",
   "execution_count": 45,
   "metadata": {},
   "outputs": [],
   "source": [
    "def get_rating(json):\n",
    "    if check_empty(json):  #if search was unsuccessfull there is no rating\n",
    "        return\n",
    "    return json[0]['vote_average'] #vote_average of first result"
   ]
  },
  {
   "cell_type": "code",
   "execution_count": 46,
   "metadata": {},
   "outputs": [],
   "source": [
    "df['Rating'] = df['Movie'].apply(find_movie).apply(get_rating)"
   ]
  },
  {
   "cell_type": "code",
   "execution_count": 50,
   "metadata": {},
   "outputs": [
    {
     "data": {
      "text/html": [
       "<div>\n",
       "<style scoped>\n",
       "    .dataframe tbody tr th:only-of-type {\n",
       "        vertical-align: middle;\n",
       "    }\n",
       "\n",
       "    .dataframe tbody tr th {\n",
       "        vertical-align: top;\n",
       "    }\n",
       "\n",
       "    .dataframe thead th {\n",
       "        text-align: right;\n",
       "    }\n",
       "</style>\n",
       "<table border=\"1\" class=\"dataframe\">\n",
       "  <thead>\n",
       "    <tr style=\"text-align: right;\">\n",
       "      <th></th>\n",
       "      <th>Movie</th>\n",
       "      <th>Date</th>\n",
       "      <th>Attendance</th>\n",
       "      <th>Rating</th>\n",
       "    </tr>\n",
       "  </thead>\n",
       "  <tbody>\n",
       "    <tr>\n",
       "      <th>22</th>\n",
       "      <td>Me Time ein Film über kinderfreies Leben und E...</td>\n",
       "      <td>2023-07-11</td>\n",
       "      <td>90</td>\n",
       "      <td>9.200</td>\n",
       "    </tr>\n",
       "    <tr>\n",
       "      <th>7</th>\n",
       "      <td>Alle reden übers Wetter</td>\n",
       "      <td>2023-05-10</td>\n",
       "      <td>9</td>\n",
       "      <td>9.000</td>\n",
       "    </tr>\n",
       "    <tr>\n",
       "      <th>8</th>\n",
       "      <td>Inception</td>\n",
       "      <td>2023-05-16</td>\n",
       "      <td>15</td>\n",
       "      <td>8.363</td>\n",
       "    </tr>\n",
       "    <tr>\n",
       "      <th>11</th>\n",
       "      <td>The Truman Show</td>\n",
       "      <td>2023-05-24</td>\n",
       "      <td>41</td>\n",
       "      <td>8.130</td>\n",
       "    </tr>\n",
       "    <tr>\n",
       "      <th>13</th>\n",
       "      <td>Im Westen Nichts Neues</td>\n",
       "      <td>2023-06-07</td>\n",
       "      <td>9</td>\n",
       "      <td>7.763</td>\n",
       "    </tr>\n",
       "  </tbody>\n",
       "</table>\n",
       "</div>"
      ],
      "text/plain": [
       "                                                Movie       Date  Attendance  \\\n",
       "22  Me Time ein Film über kinderfreies Leben und E... 2023-07-11          90   \n",
       "7                             Alle reden übers Wetter 2023-05-10           9   \n",
       "8                                           Inception 2023-05-16          15   \n",
       "11                                    The Truman Show 2023-05-24          41   \n",
       "13                             Im Westen Nichts Neues 2023-06-07           9   \n",
       "\n",
       "    Rating  \n",
       "22   9.200  \n",
       "7    9.000  \n",
       "8    8.363  \n",
       "11   8.130  \n",
       "13   7.763  "
      ]
     },
     "execution_count": 50,
     "metadata": {},
     "output_type": "execute_result"
    }
   ],
   "source": [
    "df.sort_values('Rating', ascending=False).head()"
   ]
  }
 ],
 "metadata": {
  "kernelspec": {
   "display_name": "Python 3",
   "language": "python",
   "name": "python3"
  },
  "language_info": {
   "codemirror_mode": {
    "name": "ipython",
    "version": 3
   },
   "file_extension": ".py",
   "mimetype": "text/x-python",
   "name": "python",
   "nbconvert_exporter": "python",
   "pygments_lexer": "ipython3",
   "version": "3.10.0"
  },
  "orig_nbformat": 4
 },
 "nbformat": 4,
 "nbformat_minor": 2
}
